{
  "nbformat": 4,
  "nbformat_minor": 0,
  "metadata": {
    "colab": {
      "provenance": []
    },
    "kernelspec": {
      "name": "python3",
      "display_name": "Python 3"
    },
    "language_info": {
      "name": "python"
    }
  },
  "cells": [
    {
      "cell_type": "markdown",
      "source": [
        "**Import the libraries**"
      ],
      "metadata": {
        "id": "pS-fgBN6uy4W"
      }
    },
    {
      "cell_type": "code",
      "source": [
        "# import numpy, pandas and matplotlib\n",
        "import numpy as np\n",
        "import pandas as pd\n",
        "import matplotlib.pyplot as plt"
      ],
      "metadata": {
        "id": "W_EA3xsOlXmS"
      },
      "execution_count": null,
      "outputs": []
    },
    {
      "cell_type": "markdown",
      "source": [
        "**Load the dataset**"
      ],
      "metadata": {
        "id": "wfa_rOyhmOm3"
      }
    },
    {
      "cell_type": "code",
      "source": [
        "# load the Salary_Data.csv file\n",
        "df = pd.read_csv('CancerDataset.csv')"
      ],
      "metadata": {
        "id": "uldQZFsWmNgy"
      },
      "execution_count": null,
      "outputs": []
    },
    {
      "cell_type": "markdown",
      "source": [
        "Use **df.head(n)** to display the first n rows of the dataframe.  "
      ],
      "metadata": {
        "id": "88k4apfk--kJ"
      }
    },
    {
      "cell_type": "code",
      "source": [
        "df.head(2)"
      ],
      "metadata": {
        "id": "90_vahIu-6k2",
        "outputId": "085cb7af-6c7a-44ed-a300-31125fc14a6e",
        "colab": {
          "base_uri": "https://localhost:8080/",
          "height": 112
        }
      },
      "execution_count": null,
      "outputs": [
        {
          "output_type": "execute_result",
          "data": {
            "text/plain": [
              "   TumorSize  TumorDensity  CancerDetected\n",
              "0         19         19000               0\n",
              "1         35         20000               0"
            ],
            "text/html": [
              "\n",
              "  <div id=\"df-2d07c343-0fc1-4a69-bcaa-5a82d697aeea\">\n",
              "    <div class=\"colab-df-container\">\n",
              "      <div>\n",
              "<style scoped>\n",
              "    .dataframe tbody tr th:only-of-type {\n",
              "        vertical-align: middle;\n",
              "    }\n",
              "\n",
              "    .dataframe tbody tr th {\n",
              "        vertical-align: top;\n",
              "    }\n",
              "\n",
              "    .dataframe thead th {\n",
              "        text-align: right;\n",
              "    }\n",
              "</style>\n",
              "<table border=\"1\" class=\"dataframe\">\n",
              "  <thead>\n",
              "    <tr style=\"text-align: right;\">\n",
              "      <th></th>\n",
              "      <th>TumorSize</th>\n",
              "      <th>TumorDensity</th>\n",
              "      <th>CancerDetected</th>\n",
              "    </tr>\n",
              "  </thead>\n",
              "  <tbody>\n",
              "    <tr>\n",
              "      <th>0</th>\n",
              "      <td>19</td>\n",
              "      <td>19000</td>\n",
              "      <td>0</td>\n",
              "    </tr>\n",
              "    <tr>\n",
              "      <th>1</th>\n",
              "      <td>35</td>\n",
              "      <td>20000</td>\n",
              "      <td>0</td>\n",
              "    </tr>\n",
              "  </tbody>\n",
              "</table>\n",
              "</div>\n",
              "      <button class=\"colab-df-convert\" onclick=\"convertToInteractive('df-2d07c343-0fc1-4a69-bcaa-5a82d697aeea')\"\n",
              "              title=\"Convert this dataframe to an interactive table.\"\n",
              "              style=\"display:none;\">\n",
              "        \n",
              "  <svg xmlns=\"http://www.w3.org/2000/svg\" height=\"24px\"viewBox=\"0 0 24 24\"\n",
              "       width=\"24px\">\n",
              "    <path d=\"M0 0h24v24H0V0z\" fill=\"none\"/>\n",
              "    <path d=\"M18.56 5.44l.94 2.06.94-2.06 2.06-.94-2.06-.94-.94-2.06-.94 2.06-2.06.94zm-11 1L8.5 8.5l.94-2.06 2.06-.94-2.06-.94L8.5 2.5l-.94 2.06-2.06.94zm10 10l.94 2.06.94-2.06 2.06-.94-2.06-.94-.94-2.06-.94 2.06-2.06.94z\"/><path d=\"M17.41 7.96l-1.37-1.37c-.4-.4-.92-.59-1.43-.59-.52 0-1.04.2-1.43.59L10.3 9.45l-7.72 7.72c-.78.78-.78 2.05 0 2.83L4 21.41c.39.39.9.59 1.41.59.51 0 1.02-.2 1.41-.59l7.78-7.78 2.81-2.81c.8-.78.8-2.07 0-2.86zM5.41 20L4 18.59l7.72-7.72 1.47 1.35L5.41 20z\"/>\n",
              "  </svg>\n",
              "      </button>\n",
              "      \n",
              "  <style>\n",
              "    .colab-df-container {\n",
              "      display:flex;\n",
              "      flex-wrap:wrap;\n",
              "      gap: 12px;\n",
              "    }\n",
              "\n",
              "    .colab-df-convert {\n",
              "      background-color: #E8F0FE;\n",
              "      border: none;\n",
              "      border-radius: 50%;\n",
              "      cursor: pointer;\n",
              "      display: none;\n",
              "      fill: #1967D2;\n",
              "      height: 32px;\n",
              "      padding: 0 0 0 0;\n",
              "      width: 32px;\n",
              "    }\n",
              "\n",
              "    .colab-df-convert:hover {\n",
              "      background-color: #E2EBFA;\n",
              "      box-shadow: 0px 1px 2px rgba(60, 64, 67, 0.3), 0px 1px 3px 1px rgba(60, 64, 67, 0.15);\n",
              "      fill: #174EA6;\n",
              "    }\n",
              "\n",
              "    [theme=dark] .colab-df-convert {\n",
              "      background-color: #3B4455;\n",
              "      fill: #D2E3FC;\n",
              "    }\n",
              "\n",
              "    [theme=dark] .colab-df-convert:hover {\n",
              "      background-color: #434B5C;\n",
              "      box-shadow: 0px 1px 3px 1px rgba(0, 0, 0, 0.15);\n",
              "      filter: drop-shadow(0px 1px 2px rgba(0, 0, 0, 0.3));\n",
              "      fill: #FFFFFF;\n",
              "    }\n",
              "  </style>\n",
              "\n",
              "      <script>\n",
              "        const buttonEl =\n",
              "          document.querySelector('#df-2d07c343-0fc1-4a69-bcaa-5a82d697aeea button.colab-df-convert');\n",
              "        buttonEl.style.display =\n",
              "          google.colab.kernel.accessAllowed ? 'block' : 'none';\n",
              "\n",
              "        async function convertToInteractive(key) {\n",
              "          const element = document.querySelector('#df-2d07c343-0fc1-4a69-bcaa-5a82d697aeea');\n",
              "          const dataTable =\n",
              "            await google.colab.kernel.invokeFunction('convertToInteractive',\n",
              "                                                     [key], {});\n",
              "          if (!dataTable) return;\n",
              "\n",
              "          const docLinkHtml = 'Like what you see? Visit the ' +\n",
              "            '<a target=\"_blank\" href=https://colab.research.google.com/notebooks/data_table.ipynb>data table notebook</a>'\n",
              "            + ' to learn more about interactive tables.';\n",
              "          element.innerHTML = '';\n",
              "          dataTable['output_type'] = 'display_data';\n",
              "          await google.colab.output.renderOutput(dataTable, element);\n",
              "          const docLink = document.createElement('div');\n",
              "          docLink.innerHTML = docLinkHtml;\n",
              "          element.appendChild(docLink);\n",
              "        }\n",
              "      </script>\n",
              "    </div>\n",
              "  </div>\n",
              "  "
            ]
          },
          "metadata": {},
          "execution_count": 4
        }
      ]
    },
    {
      "cell_type": "markdown",
      "source": [
        "Use **df.tail(n)** to display the last n rows of the dataframe.  "
      ],
      "metadata": {
        "id": "PwapsiYF3Jmh"
      }
    },
    {
      "cell_type": "code",
      "source": [
        "df.tail(10)"
      ],
      "metadata": {
        "id": "AG8sqLyuEALU",
        "outputId": "577321dd-5470-42e5-e5e7-1fff5e5b9ca1",
        "colab": {
          "base_uri": "https://localhost:8080/",
          "height": 363
        }
      },
      "execution_count": null,
      "outputs": [
        {
          "output_type": "execute_result",
          "data": {
            "text/plain": [
              "     TumorSize  TumorDensity  CancerDetected\n",
              "390         48         33000               1\n",
              "391         47         23000               1\n",
              "392         45         45000               1\n",
              "393         60         42000               1\n",
              "394         39         59000               0\n",
              "395         46         41000               1\n",
              "396         51         23000               1\n",
              "397         50         20000               1\n",
              "398         36         33000               0\n",
              "399         49         36000               1"
            ],
            "text/html": [
              "\n",
              "  <div id=\"df-17916baf-0776-4bd9-adfa-64df854cc426\">\n",
              "    <div class=\"colab-df-container\">\n",
              "      <div>\n",
              "<style scoped>\n",
              "    .dataframe tbody tr th:only-of-type {\n",
              "        vertical-align: middle;\n",
              "    }\n",
              "\n",
              "    .dataframe tbody tr th {\n",
              "        vertical-align: top;\n",
              "    }\n",
              "\n",
              "    .dataframe thead th {\n",
              "        text-align: right;\n",
              "    }\n",
              "</style>\n",
              "<table border=\"1\" class=\"dataframe\">\n",
              "  <thead>\n",
              "    <tr style=\"text-align: right;\">\n",
              "      <th></th>\n",
              "      <th>TumorSize</th>\n",
              "      <th>TumorDensity</th>\n",
              "      <th>CancerDetected</th>\n",
              "    </tr>\n",
              "  </thead>\n",
              "  <tbody>\n",
              "    <tr>\n",
              "      <th>390</th>\n",
              "      <td>48</td>\n",
              "      <td>33000</td>\n",
              "      <td>1</td>\n",
              "    </tr>\n",
              "    <tr>\n",
              "      <th>391</th>\n",
              "      <td>47</td>\n",
              "      <td>23000</td>\n",
              "      <td>1</td>\n",
              "    </tr>\n",
              "    <tr>\n",
              "      <th>392</th>\n",
              "      <td>45</td>\n",
              "      <td>45000</td>\n",
              "      <td>1</td>\n",
              "    </tr>\n",
              "    <tr>\n",
              "      <th>393</th>\n",
              "      <td>60</td>\n",
              "      <td>42000</td>\n",
              "      <td>1</td>\n",
              "    </tr>\n",
              "    <tr>\n",
              "      <th>394</th>\n",
              "      <td>39</td>\n",
              "      <td>59000</td>\n",
              "      <td>0</td>\n",
              "    </tr>\n",
              "    <tr>\n",
              "      <th>395</th>\n",
              "      <td>46</td>\n",
              "      <td>41000</td>\n",
              "      <td>1</td>\n",
              "    </tr>\n",
              "    <tr>\n",
              "      <th>396</th>\n",
              "      <td>51</td>\n",
              "      <td>23000</td>\n",
              "      <td>1</td>\n",
              "    </tr>\n",
              "    <tr>\n",
              "      <th>397</th>\n",
              "      <td>50</td>\n",
              "      <td>20000</td>\n",
              "      <td>1</td>\n",
              "    </tr>\n",
              "    <tr>\n",
              "      <th>398</th>\n",
              "      <td>36</td>\n",
              "      <td>33000</td>\n",
              "      <td>0</td>\n",
              "    </tr>\n",
              "    <tr>\n",
              "      <th>399</th>\n",
              "      <td>49</td>\n",
              "      <td>36000</td>\n",
              "      <td>1</td>\n",
              "    </tr>\n",
              "  </tbody>\n",
              "</table>\n",
              "</div>\n",
              "      <button class=\"colab-df-convert\" onclick=\"convertToInteractive('df-17916baf-0776-4bd9-adfa-64df854cc426')\"\n",
              "              title=\"Convert this dataframe to an interactive table.\"\n",
              "              style=\"display:none;\">\n",
              "        \n",
              "  <svg xmlns=\"http://www.w3.org/2000/svg\" height=\"24px\"viewBox=\"0 0 24 24\"\n",
              "       width=\"24px\">\n",
              "    <path d=\"M0 0h24v24H0V0z\" fill=\"none\"/>\n",
              "    <path d=\"M18.56 5.44l.94 2.06.94-2.06 2.06-.94-2.06-.94-.94-2.06-.94 2.06-2.06.94zm-11 1L8.5 8.5l.94-2.06 2.06-.94-2.06-.94L8.5 2.5l-.94 2.06-2.06.94zm10 10l.94 2.06.94-2.06 2.06-.94-2.06-.94-.94-2.06-.94 2.06-2.06.94z\"/><path d=\"M17.41 7.96l-1.37-1.37c-.4-.4-.92-.59-1.43-.59-.52 0-1.04.2-1.43.59L10.3 9.45l-7.72 7.72c-.78.78-.78 2.05 0 2.83L4 21.41c.39.39.9.59 1.41.59.51 0 1.02-.2 1.41-.59l7.78-7.78 2.81-2.81c.8-.78.8-2.07 0-2.86zM5.41 20L4 18.59l7.72-7.72 1.47 1.35L5.41 20z\"/>\n",
              "  </svg>\n",
              "      </button>\n",
              "      \n",
              "  <style>\n",
              "    .colab-df-container {\n",
              "      display:flex;\n",
              "      flex-wrap:wrap;\n",
              "      gap: 12px;\n",
              "    }\n",
              "\n",
              "    .colab-df-convert {\n",
              "      background-color: #E8F0FE;\n",
              "      border: none;\n",
              "      border-radius: 50%;\n",
              "      cursor: pointer;\n",
              "      display: none;\n",
              "      fill: #1967D2;\n",
              "      height: 32px;\n",
              "      padding: 0 0 0 0;\n",
              "      width: 32px;\n",
              "    }\n",
              "\n",
              "    .colab-df-convert:hover {\n",
              "      background-color: #E2EBFA;\n",
              "      box-shadow: 0px 1px 2px rgba(60, 64, 67, 0.3), 0px 1px 3px 1px rgba(60, 64, 67, 0.15);\n",
              "      fill: #174EA6;\n",
              "    }\n",
              "\n",
              "    [theme=dark] .colab-df-convert {\n",
              "      background-color: #3B4455;\n",
              "      fill: #D2E3FC;\n",
              "    }\n",
              "\n",
              "    [theme=dark] .colab-df-convert:hover {\n",
              "      background-color: #434B5C;\n",
              "      box-shadow: 0px 1px 3px 1px rgba(0, 0, 0, 0.15);\n",
              "      filter: drop-shadow(0px 1px 2px rgba(0, 0, 0, 0.3));\n",
              "      fill: #FFFFFF;\n",
              "    }\n",
              "  </style>\n",
              "\n",
              "      <script>\n",
              "        const buttonEl =\n",
              "          document.querySelector('#df-17916baf-0776-4bd9-adfa-64df854cc426 button.colab-df-convert');\n",
              "        buttonEl.style.display =\n",
              "          google.colab.kernel.accessAllowed ? 'block' : 'none';\n",
              "\n",
              "        async function convertToInteractive(key) {\n",
              "          const element = document.querySelector('#df-17916baf-0776-4bd9-adfa-64df854cc426');\n",
              "          const dataTable =\n",
              "            await google.colab.kernel.invokeFunction('convertToInteractive',\n",
              "                                                     [key], {});\n",
              "          if (!dataTable) return;\n",
              "\n",
              "          const docLinkHtml = 'Like what you see? Visit the ' +\n",
              "            '<a target=\"_blank\" href=https://colab.research.google.com/notebooks/data_table.ipynb>data table notebook</a>'\n",
              "            + ' to learn more about interactive tables.';\n",
              "          element.innerHTML = '';\n",
              "          dataTable['output_type'] = 'display_data';\n",
              "          await google.colab.output.renderOutput(dataTable, element);\n",
              "          const docLink = document.createElement('div');\n",
              "          docLink.innerHTML = docLinkHtml;\n",
              "          element.appendChild(docLink);\n",
              "        }\n",
              "      </script>\n",
              "    </div>\n",
              "  </div>\n",
              "  "
            ]
          },
          "metadata": {},
          "execution_count": 7
        }
      ]
    },
    {
      "cell_type": "code",
      "source": [
        "df.shape"
      ],
      "metadata": {
        "id": "Xptc1dXCA8AE",
        "outputId": "f741fba2-e975-4c69-e967-86d39ef6e2e3",
        "colab": {
          "base_uri": "https://localhost:8080/"
        }
      },
      "execution_count": null,
      "outputs": [
        {
          "output_type": "execute_result",
          "data": {
            "text/plain": [
              "(400, 3)"
            ]
          },
          "metadata": {},
          "execution_count": 6
        }
      ]
    },
    {
      "cell_type": "markdown",
      "source": [
        "**Visualize the data**  \n",
        "A dataframe can be filterd using Boolean Indexing.  \n",
        "  \n",
        "To filter all the rows that have CancerDetected as 1, we can apply the filter as **df[df.CancerDetected == 1]**  \n",
        "To filter all the rows that have CancerDetected as 0, we can apply the filter as **df[df.CancerDetected == 0]**  "
      ],
      "metadata": {
        "id": "iGSTy8QCoIGr"
      }
    },
    {
      "cell_type": "code",
      "source": [
        "cancer_data = df[df.CancerDetected == 1]\n",
        "non_cancer_data = df[df.CancerDetected == 0]"
      ],
      "metadata": {
        "id": "jxSM0eBlHfYE"
      },
      "execution_count": null,
      "outputs": []
    },
    {
      "cell_type": "code",
      "source": [
        "# Plot the scatter diagram\n",
        "plt.scatter(cancer_data.TumorSize, cancer_data.TumorDensity, color='green')\n",
        "plt.scatter(non_cancer_data.TumorSize, non_cancer_data.TumorDensity, color='red')\n",
        "plt.xlabel('Tumor Size')\n",
        "plt.ylabel('Tumor Density')"
      ],
      "metadata": {
        "id": "lAw_OAeamXyA",
        "outputId": "ea8121da-9b58-4e5c-b6a4-391e6755d9b9",
        "colab": {
          "base_uri": "https://localhost:8080/",
          "height": 466
        }
      },
      "execution_count": null,
      "outputs": [
        {
          "output_type": "execute_result",
          "data": {
            "text/plain": [
              "Text(0, 0.5, 'Tumor Density')"
            ]
          },
          "metadata": {},
          "execution_count": 16
        },
        {
          "output_type": "display_data",
          "data": {
            "text/plain": [
              "<Figure size 640x480 with 1 Axes>"
            ],
            "image/png": "[encoded data removed]"
          },
          "metadata": {}
        }
      ]
    },
    {
      "cell_type": "code",
      "source": [],
      "metadata": {
        "id": "RACXfvmaH_YC"
      },
      "execution_count": null,
      "outputs": []
    },
    {
      "cell_type": "markdown",
      "source": [
        "**Split the dataset into X and y**  \n",
        "***X*** is the input feature (years of exp) and ***y*** is the target variable that we are trying to predict (salary)  "
      ],
      "metadata": {
        "id": "V4EkDejIo_xE"
      }
    },
    {
      "cell_type": "code",
      "source": [
        "X = df.iloc[:, :-1].values\n",
        "y = df.iloc[:, -1].values\n",
        "\n",
        "X.shape, y.shape"
      ],
      "metadata": {
        "id": "fKtg2XmcoNoF",
        "colab": {
          "base_uri": "https://localhost:8080/"
        },
        "outputId": "9fece228-2a6e-41ef-9330-ad163098bb79"
      },
      "execution_count": null,
      "outputs": [
        {
          "output_type": "execute_result",
          "data": {
            "text/plain": [
              "((400, 2), (400,))"
            ]
          },
          "metadata": {},
          "execution_count": 17
        }
      ]
    },
    {
      "cell_type": "markdown",
      "source": [
        "**Splitting the dataset into the Training set and Test set**"
      ],
      "metadata": {
        "id": "klw-YbnwpgwZ"
      }
    },
    {
      "cell_type": "code",
      "source": [
        "# import train_test_split from sklearn.model_selection and train the dataset to train and test sets\n",
        "from sklearn.model_selection import train_test_split\n",
        "X_train, X_test, y_train, y_test = train_test_split(X, y, test_size=0.2)"
      ],
      "metadata": {
        "id": "FiMrjBi_pdbS"
      },
      "execution_count": null,
      "outputs": []
    },
    {
      "cell_type": "code",
      "source": [
        "X_train.shape, y_train.shape, X_test.shape, y_test.shape"
      ],
      "metadata": {
        "id": "MyC8FmUaKtZv",
        "outputId": "ef49e1d5-8b63-461c-a43f-34be3a5d58c8",
        "colab": {
          "base_uri": "https://localhost:8080/"
        }
      },
      "execution_count": null,
      "outputs": [
        {
          "output_type": "execute_result",
          "data": {
            "text/plain": [
              "((320, 2), (320,), (80, 2), (80,))"
            ]
          },
          "metadata": {},
          "execution_count": 23
        }
      ]
    },
    {
      "cell_type": "markdown",
      "source": [
        "**Feature Scaling**  \n",
        "Feature scaling is a data preprocessing technique that involves transforming the values of features or variables in a dataset to a similar scale.  \n",
        "This is done to ensure that all features contribute equally to the model and to prevent features with larger values from dominating the model.  \n",
        "  \n",
        "Feature scaling is essential when working with datasets where the features have different ranges, units of measurement, or orders of magnitude.  \n",
        "  \n",
        "Common feature scaling techniques include standardization, normalization, and min-max scaling. "
      ],
      "metadata": {
        "id": "5MSDlGVJAtzK"
      }
    },
    {
      "cell_type": "code",
      "source": [
        "from sklearn.preprocessing import StandardScaler\n",
        "\n",
        "sc = StandardScaler()\n",
        "X_train = sc.fit_transform(X_train) # note that we apply both fit and transform only to the training data\n",
        "X_test = sc.transform(X_test) # note here that w are only applying the transform function here, and not the fit function"
      ],
      "metadata": {
        "id": "N2nHoWcIAtbJ"
      },
      "execution_count": null,
      "outputs": []
    },
    {
      "cell_type": "code",
      "source": [
        "print(X_train)\n",
        "print(X_test)"
      ],
      "metadata": {
        "id": "dsU3g7L8A_AK",
        "outputId": "42882baf-e44b-40dc-c9e2-23e85dc0eda0",
        "colab": {
          "base_uri": "https://localhost:8080/"
        }
      },
      "execution_count": null,
      "outputs": [
        {
          "output_type": "stream",
          "name": "stdout",
          "text": [
            "[[ 0.80149415  0.39309342]\n",
            " [ 0.24433674  0.18678384]\n",
            " [-1.79857376  0.5109846 ]\n",
            " [-0.2199611  -1.22791036]\n",
            " [ 0.98721328  2.13198838]\n",
            " [-0.40568024 -0.2553081 ]\n",
            " [ 0.52291544  1.77831483]\n",
            " [ 2.00866853  0.56993019]\n",
            " [-0.96283765 -0.43214487]\n",
            " [ 1.54437069 -1.25738316]\n",
            " [-1.05569721 -0.49109046]\n",
            " [ 1.26579199  1.92567881]\n",
            " [-0.96283765  2.0140972 ]\n",
            " [-0.03424197  0.33414782]\n",
            " [ 1.54437069  1.15938611]\n",
            " [ 0.33719631  0.30467503]\n",
            " [-0.2199611   0.24572944]\n",
            " [-0.86997808  0.45203901]\n",
            " [ 1.73008983  1.04149493]\n",
            " [-0.2199611   1.15938611]\n",
            " [ 2.1015281  -0.78581842]\n",
            " [-0.86997808 -0.40267208]\n",
            " [ 1.35865156  2.39724354]\n",
            " [-0.2199611  -0.10794412]\n",
            " [ 1.91580896  0.95307654]\n",
            " [-0.31282067 -1.28685596]\n",
            " [ 1.91580896  2.22040677]\n",
            " [-0.31282067 -0.75634563]\n",
            " [-1.42713549 -1.22791036]\n",
            " [-0.40568024  0.00994707]\n",
            " [-1.24141635 -0.40267208]\n",
            " [-1.51999506 -1.55211112]\n",
            " [ 0.24433674 -0.34372648]\n",
            " [-1.05569721 -1.52263832]\n",
            " [-0.2199611  -0.40267208]\n",
            " [ 2.1015281   1.15938611]\n",
            " [-1.42713549  0.36362062]\n",
            " [ 0.33719631 -1.13949198]\n",
            " [ 1.17293242 -0.72687283]\n",
            " [-1.70571419 -1.46369273]\n",
            " [ 0.43005587 -0.10794412]\n",
            " [ 0.43005587  0.33414782]\n",
            " [-0.12710153  1.66042364]\n",
            " [-0.03424197  0.27520223]\n",
            " [ 0.15147717  0.80571256]\n",
            " [-0.2199611   0.09836546]\n",
            " [ 1.91580896 -1.34580155]\n",
            " [ 0.0586176  -0.52056326]\n",
            " [ 1.35865156 -1.40474714]\n",
            " [-0.49853981  1.42464128]\n",
            " [-0.03424197 -0.49109046]\n",
            " [-1.05569721 -0.992128  ]\n",
            " [-0.96283765 -0.34372648]\n",
            " [ 2.00866853 -0.78581842]\n",
            " [ 0.33719631 -0.49109046]\n",
            " [ 1.08007285 -1.19843757]\n",
            " [-0.77711851 -0.75634563]\n",
            " [-0.59139937 -1.58158392]\n",
            " [ 0.43005587  0.62887578]\n",
            " [ 0.80149415  0.30467503]\n",
            " [ 2.00866853 -1.16896477]\n",
            " [ 0.24433674 -0.63845444]\n",
            " [-1.61285462 -0.9626552 ]\n",
            " [-0.59139937  0.15731105]\n",
            " [ 0.24433674 -0.34372648]\n",
            " [ 0.0586176  -0.2258353 ]\n",
            " [ 0.43005587 -0.10794412]\n",
            " [ 1.08007285 -0.10794412]\n",
            " [-0.96283765 -1.43421994]\n",
            " [-1.14855678 -1.37527434]\n",
            " [ 1.26579199  2.27935236]\n",
            " [-0.96283765  0.45203901]\n",
            " [-0.03424197  0.09836546]\n",
            " [ 0.43005587 -0.43214487]\n",
            " [ 0.43005587 -0.13741691]\n",
            " [-0.86997808 -0.72687283]\n",
            " [-0.96283765  0.56993019]\n",
            " [ 1.45151112  0.39309342]\n",
            " [-1.70571419  0.21625664]\n",
            " [-1.14855678  0.33414782]\n",
            " [-1.70571419  0.03941986]\n",
            " [ 0.24433674  0.27520223]\n",
            " [-0.68425894 -0.1963625 ]\n",
            " [-0.03424197  0.33414782]\n",
            " [ 0.33719631 -0.52056326]\n",
            " [-0.12710153  0.89413095]\n",
            " [ 0.98721328  0.62887578]\n",
            " [-1.33427592 -0.16688971]\n",
            " [-1.79857376 -0.49109046]\n",
            " [ 1.08007285  2.13198838]\n",
            " [ 0.15147717  0.12783825]\n",
            " [ 0.43005587  0.12783825]\n",
            " [ 0.24433674  0.18678384]\n",
            " [ 0.98721328  1.48358687]\n",
            " [-0.40568024 -0.75634563]\n",
            " [-0.96283765  0.59940299]\n",
            " [-0.31282067  1.2772773 ]\n",
            " [-0.77711851  2.33829795]\n",
            " [ 0.98721328  2.04356999]\n",
            " [ 0.15147717 -0.78581842]\n",
            " [-1.05569721  0.33414782]\n",
            " [ 0.43005587  0.30467503]\n",
            " [-0.2199611   0.06889266]\n",
            " [ 0.0586176   0.06889266]\n",
            " [-0.03424197 -0.40267208]\n",
            " [-1.79857376 -0.01952573]\n",
            " [-0.68425894 -0.57950885]\n",
            " [-0.2199611   0.30467503]\n",
            " [-1.05569721  0.45203901]\n",
            " [-1.05569721  0.36362062]\n",
            " [ 0.33719631 -0.28478089]\n",
            " [-0.40568024  1.30675009]\n",
            " [ 0.70863458  0.30467503]\n",
            " [ 0.43005587  1.15938611]\n",
            " [ 1.08007285 -0.87423681]\n",
            " [-0.59139937  0.21625664]\n",
            " [-0.03424197 -0.1963625 ]\n",
            " [-1.42713549 -1.49316553]\n",
            " [ 0.89435372 -0.52056326]\n",
            " [ 0.89435372 -1.28685596]\n",
            " [-1.51999506  0.09836546]\n",
            " [ 0.33719631  0.09836546]\n",
            " [-1.33427592 -1.19843757]\n",
            " [-0.86997808 -0.28478089]\n",
            " [ 0.0586176  -0.55003606]\n",
            " [-1.24141635 -1.22791036]\n",
            " [-0.2199611  -0.2258353 ]\n",
            " [-1.70571419 -1.40474714]\n",
            " [ 1.54437069  1.04149493]\n",
            " [-1.05569721 -1.58158392]\n",
            " [ 0.15147717  1.92567881]\n",
            " [ 0.0586176  -0.28478089]\n",
            " [ 0.43005587  0.18678384]\n",
            " [ 0.24433674 -0.10794412]\n",
            " [-0.2199611   0.09836546]\n",
            " [ 0.70863458 -1.08054638]\n",
            " [ 0.98721328 -1.05107359]\n",
            " [-1.24141635 -1.34580155]\n",
            " [-0.68425894  1.9551516 ]\n",
            " [-0.59139937 -0.07847132]\n",
            " [-0.68425894 -1.58158392]\n",
            " [-1.05569721 -0.75634563]\n",
            " [ 0.33719631  0.33414782]\n",
            " [-0.03424197  0.71729417]\n",
            " [ 1.45151112  1.04149493]\n",
            " [ 0.33719631  0.09836546]\n",
            " [-0.96283765 -0.31425369]\n",
            " [ 0.0586176   0.33414782]\n",
            " [-0.40568024  2.36777075]\n",
            " [ 0.24433674  0.09836546]\n",
            " [-0.77711851 -1.19843757]\n",
            " [-0.12710153 -0.16688971]\n",
            " [-1.24141635 -0.31425369]\n",
            " [-1.33427592 -1.43421994]\n",
            " [-0.77711851  0.33414782]\n",
            " [-0.03424197  0.15731105]\n",
            " [ 0.61577501  2.07304279]\n",
            " [ 0.98721328  1.83726042]\n",
            " [-0.77711851  0.42256621]\n",
            " [-1.51999506  0.56993019]\n",
            " [-1.05569721  0.5109846 ]\n",
            " [-1.42713549 -0.40267208]\n",
            " [-0.77711851 -0.75634563]\n",
            " [ 0.89435372  1.12991332]\n",
            " [ 0.80149415  1.42464128]\n",
            " [-1.61285462 -0.57950885]\n",
            " [ 0.52291544  1.89620601]\n",
            " [-1.61285462  0.39309342]\n",
            " [-1.24141635 -1.08054638]\n",
            " [-0.40568024 -1.11001918]\n",
            " [ 0.15147717  0.06889266]\n",
            " [-1.14855678  0.5404574 ]\n",
            " [ 0.0586176  -0.2258353 ]\n",
            " [ 0.89435372 -1.13949198]\n",
            " [ 0.43005587  0.03941986]\n",
            " [ 1.91580896 -0.90370961]\n",
            " [-0.03424197  2.22040677]\n",
            " [-0.96283765 -1.11001918]\n",
            " [ 1.63723026  1.66042364]\n",
            " [-0.86997808  0.30467503]\n",
            " [-0.49853981 -1.49316553]\n",
            " [-0.49853981  0.5109846 ]\n",
            " [-0.2199611  -0.28478089]\n",
            " [-1.70571419 -1.25738316]\n",
            " [-1.24141635 -0.40267208]\n",
            " [-0.2199611  -1.34580155]\n",
            " [ 1.08007285  0.56993019]\n",
            " [-0.03424197  2.0140972 ]\n",
            " [ 0.98721328 -1.16896477]\n",
            " [ 0.24433674 -0.2553081 ]\n",
            " [ 0.98721328  0.80571256]\n",
            " [-0.59139937  0.06889266]\n",
            " [ 0.80149415  0.80571256]\n",
            " [-0.96283765 -1.52263832]\n",
            " [ 0.80149415  0.56993019]\n",
            " [-0.2199611  -0.87423681]\n",
            " [ 0.0586176  -0.40267208]\n",
            " [ 1.73008983 -0.2553081 ]\n",
            " [ 0.15147717  0.24572944]\n",
            " [ 0.89435372 -1.34580155]\n",
            " [ 1.08007285 -0.9626552 ]\n",
            " [-0.68425894  0.5404574 ]\n",
            " [-0.2199611  -0.90370961]\n",
            " [-1.42713549 -0.16688971]\n",
            " [-0.59139937 -0.01952573]\n",
            " [-0.03424197  0.24572944]\n",
            " [ 1.91580896  0.77623976]\n",
            " [-0.68425894  0.33414782]\n",
            " [ 0.70863458  1.83726042]\n",
            " [-1.05569721 -1.13949198]\n",
            " [-0.86997808  0.59940299]\n",
            " [ 1.26579199 -1.34580155]\n",
            " [ 0.89435372 -0.55003606]\n",
            " [ 0.89435372 -1.02160079]\n",
            " [-0.31282067  1.36569568]\n",
            " [-0.40568024 -0.52056326]\n",
            " [-1.70571419  0.4815118 ]\n",
            " [ 2.1015281  -0.78581842]\n",
            " [ 0.15147717  0.18678384]\n",
            " [ 0.33719631  0.09836546]\n",
            " [-0.2199611  -0.34372648]\n",
            " [-0.77711851  0.18678384]\n",
            " [ 0.33719631  0.06889266]\n",
            " [ 0.70863458 -1.37527434]\n",
            " [-0.2199611   0.83518536]\n",
            " [-1.61285462  0.15731105]\n",
            " [-0.59139937 -1.02160079]\n",
            " [-1.33427592 -0.07847132]\n",
            " [-0.03424197 -1.05107359]\n",
            " [-0.2199611  -0.55003606]\n",
            " [ 0.43005587 -0.46161767]\n",
            " [ 1.8229494  -1.05107359]\n",
            " [ 0.15147717  1.92567881]\n",
            " [ 0.43005587  2.36777075]\n",
            " [ 1.63723026  1.80778762]\n",
            " [ 1.17293242 -1.43421994]\n",
            " [-1.70571419 -1.28685596]\n",
            " [-1.05569721  0.33414782]\n",
            " [ 0.24433674 -0.2258353 ]\n",
            " [-1.14855678 -1.05107359]\n",
            " [ 0.24433674 -0.28478089]\n",
            " [ 0.80149415 -0.81529122]\n",
            " [-0.68425894  0.59940299]\n",
            " [-1.79857376  0.39309342]\n",
            " [ 1.8229494   1.57200526]\n",
            " [-0.49853981  1.9551516 ]\n",
            " [-0.12710153 -0.55003606]\n",
            " [-0.2199611  -0.46161767]\n",
            " [ 0.98721328 -0.81529122]\n",
            " [-0.86997808 -0.9331824 ]\n",
            " [-0.12710153 -1.05107359]\n",
            " [-0.96283765  0.62887578]\n",
            " [ 1.8229494  -1.25738316]\n",
            " [ 1.35865156  1.33622289]\n",
            " [ 1.08007285  0.59940299]\n",
            " [ 0.80149415 -1.37527434]\n",
            " [ 0.98721328  1.92567881]\n",
            " [-1.33427592  0.39309342]\n",
            " [ 0.0586176  -0.55003606]\n",
            " [-0.2199611  -0.72687283]\n",
            " [ 1.8229494  -0.2553081 ]\n",
            " [ 2.00866853  0.21625664]\n",
            " [ 0.0586176   1.30675009]\n",
            " [ 1.08007285  0.15731105]\n",
            " [ 0.33719631 -0.69740004]\n",
            " [ 0.98721328 -1.05107359]\n",
            " [ 0.33719631 -0.16688971]\n",
            " [-1.05569721 -1.08054638]\n",
            " [ 0.89435372 -0.57950885]\n",
            " [ 1.91580896 -0.63845444]\n",
            " [ 0.15147717  0.30467503]\n",
            " [ 2.00866853  2.19093397]\n",
            " [ 1.8229494   0.15731105]\n",
            " [ 0.80149415 -0.28478089]\n",
            " [-0.03424197 -0.46161767]\n",
            " [ 0.89435372 -0.75634563]\n",
            " [-0.77711851 -0.2258353 ]\n",
            " [-0.03424197 -0.34372648]\n",
            " [-0.2199611  -1.28685596]\n",
            " [-0.49853981 -1.49316553]\n",
            " [ 2.1015281   0.42256621]\n",
            " [-0.40568024 -0.81529122]\n",
            " [ 1.73008983  1.89620601]\n",
            " [-0.2199611  -1.37527434]\n",
            " [-1.14855678  0.62887578]\n",
            " [-0.68425894 -1.52263832]\n",
            " [-1.24141635  0.45203901]\n",
            " [-0.2199611   0.56993019]\n",
            " [ 0.33719631  0.09836546]\n",
            " [ 0.80149415 -1.34580155]\n",
            " [-0.49853981  2.39724354]\n",
            " [-1.24141635 -1.46369273]\n",
            " [-0.03424197  0.06889266]\n",
            " [ 2.1015281  -1.02160079]\n",
            " [-1.05569721  1.45411407]\n",
            " [ 0.43005587  0.33414782]\n",
            " [-1.61285462  0.5109846 ]\n",
            " [ 1.35865156  0.62887578]\n",
            " [-0.2199611  -1.43421994]\n",
            " [-0.03424197  2.27935236]\n",
            " [ 0.98721328  0.15731105]\n",
            " [ 1.08007285 -1.19843757]\n",
            " [-0.68425894  0.30467503]\n",
            " [-1.24141635  0.59940299]\n",
            " [-0.31282067  0.09836546]\n",
            " [-1.61285462  0.39309342]\n",
            " [ 2.00866853  1.80778762]\n",
            " [-0.2199611   0.18678384]\n",
            " [-1.51999506 -0.01952573]\n",
            " [-0.31282067 -0.75634563]\n",
            " [-0.2199611  -0.2553081 ]\n",
            " [-0.2199611  -0.55003606]\n",
            " [ 0.43005587 -0.43214487]\n",
            " [ 0.15147717 -0.28478089]\n",
            " [-0.86997808  1.60147805]\n",
            " [ 0.80149415 -1.08054638]\n",
            " [ 1.45151112  0.09836546]\n",
            " [-1.33427592 -0.60898165]\n",
            " [ 0.89435372  2.22040677]\n",
            " [-1.05569721 -1.58158392]]\n",
            "[[ 1.54437069  0.03941986]\n",
            " [ 0.70863458 -1.37527434]\n",
            " [ 0.89435372  1.07096772]\n",
            " [ 0.24433674  1.12991332]\n",
            " [-0.77711851  0.42256621]\n",
            " [ 1.45151112  2.19093397]\n",
            " [-0.2199611  -0.63845444]\n",
            " [-0.12710153 -0.43214487]\n",
            " [-0.03424197  0.30467503]\n",
            " [ 0.0586176   1.2772773 ]\n",
            " [ 1.45151112 -1.02160079]\n",
            " [-1.79857376 -0.72687283]\n",
            " [-0.68425894  1.39516848]\n",
            " [-0.2199611   0.65834858]\n",
            " [ 0.61577501 -0.87423681]\n",
            " [-0.49853981  1.42464128]\n",
            " [ 0.43005587  1.04149493]\n",
            " [ 0.15147717 -0.2258353 ]\n",
            " [ 0.24433674  2.16146118]\n",
            " [ 1.17293242  0.56993019]\n",
            " [ 0.89435372 -1.43421994]\n",
            " [-0.68425894  1.12991332]\n",
            " [ 0.24433674 -0.34372648]\n",
            " [ 1.35865156 -0.90370961]\n",
            " [-0.12710153  1.68989644]\n",
            " [ 0.33719631  0.5404574 ]\n",
            " [ 1.08007285  0.5109846 ]\n",
            " [ 0.33719631 -0.49109046]\n",
            " [-0.03424197  0.18678384]\n",
            " [-0.49853981  1.51305966]\n",
            " [ 1.63723026 -0.87423681]\n",
            " [ 0.70863458 -1.25738316]\n",
            " [ 0.98721328 -1.13949198]\n",
            " [ 0.0586176  -0.10794412]\n",
            " [ 0.89435372 -0.63845444]\n",
            " [ 0.98721328 -0.992128  ]\n",
            " [ 2.00866853  0.42256621]\n",
            " [ 0.0586176   0.06889266]\n",
            " [ 2.1015281  -0.66792724]\n",
            " [-0.12710153  1.45411407]\n",
            " [ 0.15147717 -0.78581842]\n",
            " [-0.96283765  0.80571256]\n",
            " [ 2.1015281   0.98254934]\n",
            " [-1.05569721  0.09836546]\n",
            " [-0.2199611   0.18678384]\n",
            " [-0.86997808 -1.08054638]\n",
            " [-0.86997808 -0.28478089]\n",
            " [-1.61285462 -1.34580155]\n",
            " [ 1.17293242 -0.9626552 ]\n",
            " [-0.2199611   0.12783825]\n",
            " [-1.05569721 -1.55211112]\n",
            " [-0.2199611   2.30882516]\n",
            " [-0.86997808  0.5404574 ]\n",
            " [ 0.15147717  1.57200526]\n",
            " [ 0.80149415 -1.19843757]\n",
            " [-0.12710153 -0.2553081 ]\n",
            " [-0.2199611  -0.31425369]\n",
            " [-0.12710153  2.22040677]\n",
            " [-0.59139937 -0.31425369]\n",
            " [-0.86997808  0.4815118 ]\n",
            " [ 0.89435372  1.30675009]\n",
            " [ 0.15147717  1.10044052]\n",
            " [-0.12710153  0.18678384]\n",
            " [-0.12710153 -0.49109046]\n",
            " [-0.59139937 -1.49316553]\n",
            " [ 1.35865156  2.04356999]\n",
            " [-0.96283765 -0.31425369]\n",
            " [-0.77711851 -0.63845444]\n",
            " [ 0.15147717  0.06889266]\n",
            " [ 0.33719631 -0.2553081 ]\n",
            " [-0.03424197  0.03941986]\n",
            " [-0.40568024 -1.19843757]\n",
            " [-1.14855678  0.30467503]\n",
            " [ 0.70863458 -0.69740004]\n",
            " [-0.59139937  1.45411407]\n",
            " [ 0.80149415  0.15731105]\n",
            " [ 0.52291544  1.2772773 ]\n",
            " [-0.49853981  0.92360374]\n",
            " [ 0.24433674  0.06889266]\n",
            " [-0.59139937  0.59940299]]\n"
          ]
        }
      ]
    },
    {
      "cell_type": "markdown",
      "source": [
        "**Training the Logistic Regression model on the Training set**"
      ],
      "metadata": {
        "id": "gknRLDqXp204"
      }
    },
    {
      "cell_type": "code",
      "source": [
        "# Load the LogisticRegression from sklearn.linear_model and fit the data\n",
        "from sklearn.linear_model import LogisticRegression\n",
        "classifier = LogisticRegression()\n",
        "classifier.fit(X_train, y_train)"
      ],
      "metadata": {
        "id": "3weIQZ35pkNW",
        "outputId": "6a8cb0ad-399d-420d-dfc1-42e676e7623a",
        "colab": {
          "base_uri": "https://localhost:8080/",
          "height": 75
        }
      },
      "execution_count": null,
      "outputs": [
        {
          "output_type": "execute_result",
          "data": {
            "text/plain": [
              "LogisticRegression()"
            ],
            "text/html": [
              "<style>#sk-container-id-1 {color: black;background-color: white;}#sk-container-id-1 pre{padding: 0;}#sk-container-id-1 div.sk-toggleable {background-color: white;}#sk-container-id-1 label.sk-toggleable__label {cursor: pointer;display: block;width: 100%;margin-bottom: 0;padding: 0.3em;box-sizing: border-box;text-align: center;}#sk-container-id-1 label.sk-toggleable__label-arrow:before {content: \"▸\";float: left;margin-right: 0.25em;color: #696969;}#sk-container-id-1 label.sk-toggleable__label-arrow:hover:before {color: black;}#sk-container-id-1 div.sk-estimator:hover label.sk-toggleable__label-arrow:before {color: black;}#sk-container-id-1 div.sk-toggleable__content {max-height: 0;max-width: 0;overflow: hidden;text-align: left;background-color: #f0f8ff;}#sk-container-id-1 div.sk-toggleable__content pre {margin: 0.2em;color: black;border-radius: 0.25em;background-color: #f0f8ff;}#sk-container-id-1 input.sk-toggleable__control:checked~div.sk-toggleable__content {max-height: 200px;max-width: 100%;overflow: auto;}#sk-container-id-1 input.sk-toggleable__control:checked~label.sk-toggleable__label-arrow:before {content: \"▾\";}#sk-container-id-1 div.sk-estimator input.sk-toggleable__control:checked~label.sk-toggleable__label {background-color: #d4ebff;}#sk-container-id-1 div.sk-label input.sk-toggleable__control:checked~label.sk-toggleable__label {background-color: #d4ebff;}#sk-container-id-1 input.sk-hidden--visually {border: 0;clip: rect(1px 1px 1px 1px);clip: rect(1px, 1px, 1px, 1px);height: 1px;margin: -1px;overflow: hidden;padding: 0;position: absolute;width: 1px;}#sk-container-id-1 div.sk-estimator {font-family: monospace;background-color: #f0f8ff;border: 1px dotted black;border-radius: 0.25em;box-sizing: border-box;margin-bottom: 0.5em;}#sk-container-id-1 div.sk-estimator:hover {background-color: #d4ebff;}#sk-container-id-1 div.sk-parallel-item::after {content: \"\";width: 100%;border-bottom: 1px solid gray;flex-grow: 1;}#sk-container-id-1 div.sk-label:hover label.sk-toggleable__label {background-color: #d4ebff;}#sk-container-id-1 div.sk-serial::before {content: \"\";position: absolute;border-left: 1px solid gray;box-sizing: border-box;top: 0;bottom: 0;left: 50%;z-index: 0;}#sk-container-id-1 div.sk-serial {display: flex;flex-direction: column;align-items: center;background-color: white;padding-right: 0.2em;padding-left: 0.2em;position: relative;}#sk-container-id-1 div.sk-item {position: relative;z-index: 1;}#sk-container-id-1 div.sk-parallel {display: flex;align-items: stretch;justify-content: center;background-color: white;position: relative;}#sk-container-id-1 div.sk-item::before, #sk-container-id-1 div.sk-parallel-item::before {content: \"\";position: absolute;border-left: 1px solid gray;box-sizing: border-box;top: 0;bottom: 0;left: 50%;z-index: -1;}#sk-container-id-1 div.sk-parallel-item {display: flex;flex-direction: column;z-index: 1;position: relative;background-color: white;}#sk-container-id-1 div.sk-parallel-item:first-child::after {align-self: flex-end;width: 50%;}#sk-container-id-1 div.sk-parallel-item:last-child::after {align-self: flex-start;width: 50%;}#sk-container-id-1 div.sk-parallel-item:only-child::after {width: 0;}#sk-container-id-1 div.sk-dashed-wrapped {border: 1px dashed gray;margin: 0 0.4em 0.5em 0.4em;box-sizing: border-box;padding-bottom: 0.4em;background-color: white;}#sk-container-id-1 div.sk-label label {font-family: monospace;font-weight: bold;display: inline-block;line-height: 1.2em;}#sk-container-id-1 div.sk-label-container {text-align: center;}#sk-container-id-1 div.sk-container {/* jupyter's `normalize.less` sets `[hidden] { display: none; }` but bootstrap.min.css set `[hidden] { display: none !important; }` so we also need the `!important` here to be able to override the default hidden behavior on the sphinx rendered scikit-learn.org. See: https://github.com/scikit-learn/scikit-learn/issues/21755 */display: inline-block !important;position: relative;}#sk-container-id-1 div.sk-text-repr-fallback {display: none;}</style><div id=\"sk-container-id-1\" class=\"sk-top-container\"><div class=\"sk-text-repr-fallback\"><pre>LogisticRegression()</pre><b>In a Jupyter environment, please rerun this cell to show the HTML representation or trust the notebook. <br />On GitHub, the HTML representation is unable to render, please try loading this page with nbviewer.org.</b></div><div class=\"sk-container\" hidden><div class=\"sk-item\"><div class=\"sk-estimator sk-toggleable\"><input class=\"sk-toggleable__control sk-hidden--visually\" id=\"sk-estimator-id-1\" type=\"checkbox\" checked><label for=\"sk-estimator-id-1\" class=\"sk-toggleable__label sk-toggleable__label-arrow\">LogisticRegression</label><div class=\"sk-toggleable__content\"><pre>LogisticRegression()</pre></div></div></div></div></div>"
            ]
          },
          "metadata": {},
          "execution_count": 27
        }
      ]
    },
    {
      "cell_type": "markdown",
      "source": [
        "**Predicting the Test set results**"
      ],
      "metadata": {
        "id": "iLE0F-lgq7FO"
      }
    },
    {
      "cell_type": "code",
      "source": [
        "# Make predictions with test data\n",
        "y_pred = classifier.predict(X_test)"
      ],
      "metadata": {
        "id": "YFzCVQs_p41v"
      },
      "execution_count": null,
      "outputs": []
    },
    {
      "cell_type": "markdown",
      "source": [
        "# Evaluating the model\n",
        "**Accuracy**  \n",
        "Accuracy is the percentage of the predictions that are correct  \n"
      ],
      "metadata": {
        "id": "qP8L2CC8EG4b"
      }
    },
    {
      "cell_type": "markdown",
      "source": [
        "![image.png](data:image/png;base64,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)"
      ],
      "metadata": {
        "id": "-nDkEFfCEvgl"
      }
    },
    {
      "cell_type": "code",
      "source": [
        "from sklearn.metrics import accuracy_score\n",
        "accuracy_score(y_test, y_pred)"
      ],
      "metadata": {
        "id": "aCgHGELiEGRL",
        "outputId": "2d3f483a-ef55-49cd-9584-e462a9d0b9f9",
        "colab": {
          "base_uri": "https://localhost:8080/"
        }
      },
      "execution_count": null,
      "outputs": [
        {
          "output_type": "execute_result",
          "data": {
            "text/plain": [
              "0.7125"
            ]
          },
          "metadata": {},
          "execution_count": 30
        }
      ]
    },
    {
      "cell_type": "markdown",
      "source": [
        "**Confusion Matrix**  \n"
      ],
      "metadata": {
        "id": "VGbtcIh8ExTl"
      }
    },
    {
      "cell_type": "markdown",
      "source": [
        "![image.png](data:image/png;base64,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)"
      ],
      "metadata": {
        "id": "I4JV2RG1FdcT"
      }
    },
    {
      "cell_type": "code",
      "source": [
        "# Making the Confusion Matrix\n",
        "from sklearn.metrics import confusion_matrix\n",
        "cm = confusion_matrix(y_test, y_pred)\n",
        "print(cm)\n"
      ],
      "metadata": {
        "id": "2m-dxzomECWQ",
        "outputId": "c0970d56-6bac-4b77-9361-a9e73e6790cc",
        "colab": {
          "base_uri": "https://localhost:8080/"
        }
      },
      "execution_count": null,
      "outputs": [
        {
          "output_type": "stream",
          "name": "stdout",
          "text": [
            "[[36  3]\n",
            " [20 21]]\n"
          ]
        }
      ]
    },
    {
      "cell_type": "code",
      "source": [
        "import seaborn as sns\n",
        "sns.heatmap(cm, annot = True)\n",
        "plt.xlabel('Actual Class')\n",
        "plt.ylabel('predicted Class')"
      ],
      "metadata": {
        "id": "Z_V4NzLNWzy0",
        "outputId": "c04c36d1-195d-4313-cb66-dadbd4342e70",
        "colab": {
          "base_uri": "https://localhost:8080/",
          "height": 466
        }
      },
      "execution_count": null,
      "outputs": [
        {
          "output_type": "execute_result",
          "data": {
            "text/plain": [
              "Text(50.722222222222214, 0.5, 'predicted Class')"
            ]
          },
          "metadata": {},
          "execution_count": 32
        },
        {
          "output_type": "display_data",
          "data": {
            "text/plain": [
              "<Figure size 640x480 with 2 Axes>"
            ],
            "image/png": "[encoded data removed]"
          },
          "metadata": {}
        }
      ]
    }
  ]
}